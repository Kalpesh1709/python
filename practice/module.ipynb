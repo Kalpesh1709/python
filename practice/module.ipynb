{
 "cells": [
  {
   "cell_type": "code",
   "execution_count": null,
   "id": "eca5d078-95ba-447b-a867-060c3228c573",
   "metadata": {},
   "outputs": [],
   "source": [
    "pwd()"
   ]
  },
  {
   "cell_type": "code",
   "execution_count": null,
   "id": "1ba8b7a2-b3da-4696-be1c-b484660b6e24",
   "metadata": {},
   "outputs": [],
   "source": [
    "import os"
   ]
  },
  {
   "cell_type": "code",
   "execution_count": null,
   "id": "b5d842ad-5682-4e25-80a9-e07bb29fd842",
   "metadata": {},
   "outputs": [],
   "source": [
    "os.chdir(\"C:\\\\Users\\Tushar\\Desktop\\Python_testing\")"
   ]
  },
  {
   "cell_type": "code",
   "execution_count": null,
   "id": "86e34681-47d9-4a59-8375-b38664e48ec8",
   "metadata": {},
   "outputs": [],
   "source": [
    "import math"
   ]
  },
  {
   "cell_type": "code",
   "execution_count": null,
   "id": "2c039779-c643-4ce9-80e3-bcc6afee3cd4",
   "metadata": {},
   "outputs": [],
   "source": [
    "math.sqrt(4)"
   ]
  },
  {
   "cell_type": "code",
   "execution_count": null,
   "id": "aaa69cdb-0f1d-432a-8f03-b2a562b82e8f",
   "metadata": {},
   "outputs": [],
   "source": [
    "from math import sqrt"
   ]
  },
  {
   "cell_type": "code",
   "execution_count": null,
   "id": "90f66f15-c8ad-487d-80f4-31a464df45c6",
   "metadata": {},
   "outputs": [],
   "source": [
    "sqrt(5)"
   ]
  },
  {
   "cell_type": "code",
   "execution_count": null,
   "id": "bae25408-0e0b-478a-b779-74366fe2c117",
   "metadata": {},
   "outputs": [],
   "source": [
    "from math import *"
   ]
  },
  {
   "cell_type": "code",
   "execution_count": null,
   "id": "44e852eb-ec4c-492d-b2da-a60d6a212a70",
   "metadata": {},
   "outputs": [],
   "source": [
    "sin(0)"
   ]
  },
  {
   "cell_type": "raw",
   "id": "66967ab0-26c5-4e35-9620-1d6fa34da6f6",
   "metadata": {},
   "source": [
    "sqrt(4)"
   ]
  },
  {
   "cell_type": "code",
   "execution_count": null,
   "id": "f727280b-02c5-4d3e-a52a-85d54f740093",
   "metadata": {},
   "outputs": [],
   "source": [
    "sqrt(5)"
   ]
  },
  {
   "cell_type": "raw",
   "id": "7f224eb0-1464-42ff-b150-b937e8e49a99",
   "metadata": {},
   "source": [
    "sqrt(4)"
   ]
  },
  {
   "cell_type": "code",
   "execution_count": null,
   "id": "05eca4a2-121c-4deb-ab24-998a47192856",
   "metadata": {},
   "outputs": [],
   "source": [
    "pwd()"
   ]
  },
  {
   "cell_type": "code",
   "execution_count": null,
   "id": "aa478ce4-9d97-4282-92bb-80bb658f8ab4",
   "metadata": {},
   "outputs": [],
   "source": [
    "import text2"
   ]
  },
  {
   "cell_type": "code",
   "execution_count": null,
   "id": "6de260fa-2710-4af8-a9ed-69db3aaee2d5",
   "metadata": {},
   "outputs": [],
   "source": [
    "import imp\n",
    "imp.reload(text2)"
   ]
  },
  {
   "cell_type": "code",
   "execution_count": null,
   "id": "954c9980-4975-4f32-9b11-7aefaea155ee",
   "metadata": {},
   "outputs": [],
   "source": [
    "!pip install imp"
   ]
  },
  {
   "cell_type": "code",
   "execution_count": null,
   "id": "82c3b86c-0ed4-40b6-acc2-aac983949d74",
   "metadata": {},
   "outputs": [],
   "source": [
    "import imp\n",
    "imp.reload(text2)"
   ]
  },
  {
   "cell_type": "code",
   "execution_count": null,
   "id": "b5d3bb69-f874-4e6f-9c90-2f1dc0445b76",
   "metadata": {},
   "outputs": [],
   "source": [
    "import imp\n",
    "imp.reload(text2)"
   ]
  },
  {
   "cell_type": "code",
   "execution_count": null,
   "id": "5dba3d14-21ca-4dca-a588-e3b5e12eb43f",
   "metadata": {},
   "outputs": [],
   "source": [
    "import addition1\n",
    "addition1.addition2(3,2)"
   ]
  },
  {
   "cell_type": "code",
   "execution_count": null,
   "id": "8042513e-651e-4547-9eea-3bd98564d71e",
   "metadata": {},
   "outputs": [],
   "source": [
    "import text3\n",
    "text3"
   ]
  },
  {
   "cell_type": "code",
   "execution_count": null,
   "id": "c31e1d35-e6d5-40f0-977b-9d8401eb8fd7",
   "metadata": {},
   "outputs": [],
   "source": [
    "pwd()"
   ]
  },
  {
   "cell_type": "code",
   "execution_count": null,
   "id": "e3bfb379-6687-4aff-97b5-1148d216a0cb",
   "metadata": {},
   "outputs": [],
   "source": []
  },
  {
   "cell_type": "code",
   "execution_count": null,
   "id": "5948e3d9-39e1-48f7-aa19-119b439b6816",
   "metadata": {},
   "outputs": [],
   "source": [
    "os.chdir('C:\\\\Users\\\\Tushar\\\\Desktop\\\\Python_testing\\ex')"
   ]
  },
  {
   "cell_type": "code",
   "execution_count": null,
   "id": "0c8d5b47-0d10-4c9f-92ef-9aea0ffe5564",
   "metadata": {},
   "outputs": [],
   "source": [
    "import os"
   ]
  },
  {
   "cell_type": "code",
   "execution_count": null,
   "id": "32598713-a81d-4da4-801e-5d3bdd547ae8",
   "metadata": {},
   "outputs": [],
   "source": [
    "os.chdir('C:\\\\Users\\\\Tushar\\\\Desktop\\\\Python_testing\\ex')"
   ]
  },
  {
   "cell_type": "code",
   "execution_count": 1,
   "id": "2ecd3918-8efe-419a-838f-049d1a38f321",
   "metadata": {},
   "outputs": [
    {
     "data": {
      "text/plain": [
       "'C:\\\\Users\\\\Tushar\\\\Desktop\\\\Python_testing'"
      ]
     },
     "execution_count": 1,
     "metadata": {},
     "output_type": "execute_result"
    }
   ],
   "source": [
    "pwd()"
   ]
  },
  {
   "cell_type": "code",
   "execution_count": 5,
   "id": "a85eed8e-861a-4b8d-afe8-70a8eadde19b",
   "metadata": {},
   "outputs": [],
   "source": [
    "class data:\n",
    "  def __init__(self,file_name,File_type,file_date,filesize):\n",
    "    self.file_name = file_name\n",
    "    self.File_type = File_type\n",
    "    self.file_date = file_date\n",
    "    self.filesize = filesize\n",
    "  def file_open(self):\n",
    "     f=open(self.file_name,'w+')\n",
    "     f.write(\"hello\"+self.file_name)\n",
    "     f.close\n",
    "  def file_read(self):\n",
    "     f=open(self.file_name,\"r\")\n",
    "     print(f.read())\n",
    "     f.close\n",
    "  def file_append(self):\n",
    "     f=open(self.file_name,\"a\")\n",
    "     f.write(\"append\"+self.file_name)\n",
    "     f.close"
   ]
  },
  {
   "cell_type": "code",
   "execution_count": 8,
   "id": "cbdf56d9-1165-44bc-a5fc-526b773579bb",
   "metadata": {},
   "outputs": [],
   "source": [
    "File_data = data(\"hey\",'.txt',2021,[30,34,45,67])"
   ]
  },
  {
   "cell_type": "code",
   "execution_count": 9,
   "id": "5ff6938f-475f-47d3-a72d-1b9f1ef2e283",
   "metadata": {},
   "outputs": [
    {
     "name": "stdout",
     "output_type": "stream",
     "text": [
      "hellohey\n"
     ]
    }
   ],
   "source": [
    "File_data.file_open()\n",
    "File_data.file_read()\n",
    "File_data.file_append()"
   ]
  },
  {
   "cell_type": "code",
   "execution_count": null,
   "id": "5ee22824-7d7a-47e9-971a-3d444c0a938d",
   "metadata": {},
   "outputs": [],
   "source": []
  },
  {
   "cell_type": "code",
   "execution_count": null,
   "id": "b279bf43-4f69-44a8-a9c2-81063f2ee361",
   "metadata": {},
   "outputs": [],
   "source": []
  }
 ],
 "metadata": {
  "kernelspec": {
   "display_name": "Python 3 (ipykernel)",
   "language": "python",
   "name": "python3"
  },
  "language_info": {
   "codemirror_mode": {
    "name": "ipython",
    "version": 3
   },
   "file_extension": ".py",
   "mimetype": "text/x-python",
   "name": "python",
   "nbconvert_exporter": "python",
   "pygments_lexer": "ipython3",
   "version": "3.11.5"
  }
 },
 "nbformat": 4,
 "nbformat_minor": 5
}
