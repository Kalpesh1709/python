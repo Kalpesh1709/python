{
 "cells": [
  {
   "cell_type": "code",
   "execution_count": null,
   "metadata": {},
   "outputs": [],
   "source": [
    "l=[2,3,4,5,5,6,6]"
   ]
  },
  {
   "cell_type": "code",
   "execution_count": null,
   "metadata": {},
   "outputs": [],
   "source": [
    "l=iter(l)"
   ]
  },
  {
   "cell_type": "code",
   "execution_count": null,
   "metadata": {},
   "outputs": [],
   "source": [
    "next(l)"
   ]
  },
  {
   "cell_type": "code",
   "execution_count": null,
   "metadata": {},
   "outputs": [],
   "source": [
    "next(l)"
   ]
  },
  {
   "cell_type": "code",
   "execution_count": null,
   "metadata": {},
   "outputs": [],
   "source": [
    "next(l)"
   ]
  },
  {
   "cell_type": "code",
   "execution_count": null,
   "metadata": {},
   "outputs": [],
   "source": [
    "next(l)"
   ]
  },
  {
   "cell_type": "code",
   "execution_count": null,
   "metadata": {},
   "outputs": [],
   "source": [
    "next(l)"
   ]
  },
  {
   "cell_type": "code",
   "execution_count": null,
   "metadata": {},
   "outputs": [],
   "source": [
    "next(l)"
   ]
  },
  {
   "cell_type": "code",
   "execution_count": null,
   "metadata": {},
   "outputs": [],
   "source": [
    "next(l)"
   ]
  },
  {
   "cell_type": "code",
   "execution_count": null,
   "metadata": {},
   "outputs": [],
   "source": [
    "t=(2,3,4,5)"
   ]
  },
  {
   "cell_type": "code",
   "execution_count": null,
   "metadata": {},
   "outputs": [],
   "source": [
    "t=iter(t)"
   ]
  },
  {
   "cell_type": "code",
   "execution_count": null,
   "metadata": {},
   "outputs": [],
   "source": [
    "next(t)"
   ]
  },
  {
   "cell_type": "code",
   "execution_count": null,
   "metadata": {},
   "outputs": [],
   "source": [
    "b= range(0,6)"
   ]
  },
  {
   "cell_type": "code",
   "execution_count": null,
   "metadata": {},
   "outputs": [],
   "source": [
    "b=iter(b)"
   ]
  },
  {
   "cell_type": "code",
   "execution_count": null,
   "metadata": {},
   "outputs": [],
   "source": [
    "next(b)"
   ]
  },
  {
   "cell_type": "code",
   "execution_count": null,
   "metadata": {},
   "outputs": [],
   "source": [
    "b=\"hello\"\n",
    "b=iter(b)"
   ]
  },
  {
   "cell_type": "code",
   "execution_count": null,
   "metadata": {},
   "outputs": [],
   "source": [
    "next(b)"
   ]
  },
  {
   "cell_type": "code",
   "execution_count": null,
   "metadata": {},
   "outputs": [],
   "source": [
    "def gencube(n):\n",
    "    l=[]\n",
    "    for i in range(n):\n",
    "        l.append(i**3)\n",
    "    return l\n"
   ]
  },
  {
   "cell_type": "code",
   "execution_count": null,
   "metadata": {},
   "outputs": [],
   "source": [
    "gencube(6000000)"
   ]
  },
  {
   "cell_type": "code",
   "execution_count": null,
   "metadata": {},
   "outputs": [],
   "source": [
    "def gencube(n):\n",
    "    for i in range(n):\n",
    "        yield i**3"
   ]
  },
  {
   "cell_type": "code",
   "execution_count": null,
   "metadata": {},
   "outputs": [],
   "source": [
    "gencube(10)"
   ]
  },
  {
   "cell_type": "code",
   "execution_count": null,
   "metadata": {},
   "outputs": [],
   "source": [
    "gencube(9)"
   ]
  },
  {
   "cell_type": "code",
   "execution_count": null,
   "metadata": {},
   "outputs": [],
   "source": [
    "for i in gencube(90000):\n",
    "    print(i)"
   ]
  },
  {
   "cell_type": "code",
   "execution_count": null,
   "metadata": {},
   "outputs": [],
   "source": [
    "def fib(n):\n",
    "    a=1\n",
    "    b=1\n",
    "    for i in range (n):\n",
    "        yield a,i\n",
    "        a,b=b,a+b"
   ]
  },
  {
   "cell_type": "code",
   "execution_count": null,
   "metadata": {},
   "outputs": [],
   "source": [
    "for i in fib(1000):\n",
    "    print(i)"
   ]
  },
  {
   "cell_type": "code",
   "execution_count": null,
   "metadata": {},
   "outputs": [],
   "source": [
    "f=open(\"test1.txt\",\"w\")"
   ]
  },
  {
   "cell_type": "code",
   "execution_count": null,
   "metadata": {},
   "outputs": [],
   "source": [
    "pwd()"
   ]
  },
  {
   "cell_type": "code",
   "execution_count": null,
   "metadata": {},
   "outputs": [],
   "source": [
    "%ls"
   ]
  },
  {
   "cell_type": "code",
   "execution_count": null,
   "metadata": {},
   "outputs": [],
   "source": [
    "f=open(\"test1.txt\",\"w\")\n",
    "f.write(\"this is my 1st program\")"
   ]
  },
  {
   "cell_type": "code",
   "execution_count": null,
   "metadata": {},
   "outputs": [],
   "source": [
    "f.close()"
   ]
  },
  {
   "cell_type": "code",
   "execution_count": null,
   "metadata": {},
   "outputs": [],
   "source": [
    "f=open(\"test1.txt\",\"w\")\n",
    "f.write(\"this is my 2nd st program\")\n",
    "f.close()"
   ]
  },
  {
   "cell_type": "code",
   "execution_count": null,
   "metadata": {},
   "outputs": [],
   "source": [
    "%%writefile test2.txt\n",
    "this is data i would like to stosre text2"
   ]
  },
  {
   "cell_type": "code",
   "execution_count": null,
   "metadata": {},
   "outputs": [],
   "source": [
    "f=open(\"test2.txt\",'r')"
   ]
  },
  {
   "cell_type": "code",
   "execution_count": null,
   "metadata": {},
   "outputs": [],
   "source": [
    "f.read()"
   ]
  },
  {
   "cell_type": "code",
   "execution_count": null,
   "metadata": {},
   "outputs": [],
   "source": [
    "f.read()"
   ]
  },
  {
   "cell_type": "code",
   "execution_count": null,
   "metadata": {},
   "outputs": [],
   "source": [
    "f.seek(2)"
   ]
  },
  {
   "cell_type": "code",
   "execution_count": null,
   "metadata": {},
   "outputs": [],
   "source": [
    "f.read()"
   ]
  },
  {
   "cell_type": "code",
   "execution_count": null,
   "metadata": {},
   "outputs": [],
   "source": [
    "f.tell()"
   ]
  },
  {
   "cell_type": "code",
   "execution_count": null,
   "metadata": {},
   "outputs": [],
   "source": [
    "f.close()"
   ]
  },
  {
   "cell_type": "code",
   "execution_count": null,
   "metadata": {},
   "outputs": [],
   "source": [
    "f=open(\"test1.txt\",\"r+\")"
   ]
  },
  {
   "cell_type": "code",
   "execution_count": null,
   "metadata": {},
   "outputs": [],
   "source": [
    "f=open(\"bengulru.txt\",\"w\")"
   ]
  },
  {
   "cell_type": "code",
   "execution_count": null,
   "metadata": {},
   "outputs": [],
   "source": [
    "f.write(\"\"\"The oldest inscription in current-day Bengaluru is the Hebbal-Kittayya inscription, which dates back to the Ganga dynasty in Karnataka and mentions the administration of Sripurusha. Carved in early Kannada script, it pays tribute to Kittayya, who was martyred defending his land in a battle during Sripurusha’s reign.[2] The Gangas ruled Gangavadi from Kolar starting c. 350 and later shifted their capital to Talakadu.[3]\n",
    "\n",
    "The first mention of the name Bengaluru, albeit in the form 'Benguluru' is from an inscription in Begur dated to 9th century AD. Written in Halegannada (ancient Kannada), it mentions 'Bengaluru Kadana' (battle of Bengaluru). The inscription stone found near Begur reveals, that the district was part of the Ganga Kingdom ruled from Gangavadi until 1024 AD and was known as 'Benga-val-oru', the City of Guards in old Kannada.[4]\n",
    "\n",
    "Edgar Thurston (Castes and Tribes of India Volume 5) states that the Kongu region was ruled by a series of twenty eight kings before being conquered by the Cholas of Tanjore, citing the earliest portion of the Kongu Chronicle - Kongu Desa Rajakkal (a manuscript in The Mackenzie Collection) which gives a series of short notices of the reigns of all the kings who ruled the country from the start of the Christian era till its conquest by the Cholas. These kings belonged to two distinct dynasties: the earlier line of the Solar race which had a succession of seven kings of the Ratti tribe, and the later line of the Ganga race, itself claimed to be a branch of the Solar race.\n",
    "\n",
    "\n",
    "The Hebbal-Kittayya inscription stone dated to 750 AD found in Hebbal, Bengaluru\n",
    "In 1024 AD, the Chola Empire captured the city. Today, little evidence can be seen of this period. A small village in south Bangalore and one in Anantapur district bear the Chola name but the residents are of native stock. The later Gangas often fought alongside the Chalukyas, Rastrakutas and the Hoysalas. In 1117 AD, the Hoysala king Vishnuvardhana defeated the Cholas in the battle of Talakad which led to the Hoysalas regaining control of Talakad.\n",
    "\n",
    "Vijayanagara and Kempe Gowda\n",
    "Kempe Gowda I, Modern Bangalore was founded by a feudatory of the Vijayanagara Empire, who built a mud fort in the year 1537. Kempe Gowda also referred to the new town as his \"gandu bhoomi\" or \"Land of Heroes\".[5] Within Bangalore, the town was divided into petes (IPA: [pete]) or market. The town had two main streets: Chikkapete Street ran east–west and Doddapete Street ran north–south. Their intersection formed Doddapete square[6] – the heart of then Bangalore. Kempe Gowda's successor, Kempe Gowda II, built temples, tanks including Kempapura and Karanjikere tanks and four watching towers that marked Bangalore's boundary.[7] There is an inscription dated 1628 C.E in the Ranganatha Temple in Telugu. \"\"\")"
   ]
  },
  {
   "cell_type": "code",
   "execution_count": null,
   "metadata": {},
   "outputs": [],
   "source": [
    "f.close()"
   ]
  },
  {
   "cell_type": "code",
   "execution_count": null,
   "metadata": {},
   "outputs": [],
   "source": [
    "f=open(\"bengulru.txt\",\"r+\")"
   ]
  },
  {
   "cell_type": "code",
   "execution_count": null,
   "metadata": {},
   "outputs": [],
   "source": [
    "f.readlines()"
   ]
  },
  {
   "cell_type": "code",
   "execution_count": null,
   "metadata": {},
   "outputs": [],
   "source": [
    "f.seek(0)"
   ]
  },
  {
   "cell_type": "code",
   "execution_count": null,
   "metadata": {},
   "outputs": [],
   "source": [
    "f.close()"
   ]
  },
  {
   "cell_type": "code",
   "execution_count": null,
   "metadata": {},
   "outputs": [],
   "source": [
    "f=open(\"bengulru.txt\",\"r+\")\n",
    "for line in f:\n",
    "    print(line,end=\" \")"
   ]
  },
  {
   "cell_type": "code",
   "execution_count": null,
   "metadata": {},
   "outputs": [],
   "source": [
    "f.close()"
   ]
  },
  {
   "cell_type": "code",
   "execution_count": null,
   "metadata": {},
   "outputs": [],
   "source": [
    "f=open(\"bengulru.txt\",\"r+\")\n",
    "f.seek(17)\n",
    "f.write(\"my name is kalpesh thakare\")\n",
    "f.close()"
   ]
  },
  {
   "cell_type": "code",
   "execution_count": null,
   "metadata": {},
   "outputs": [],
   "source": [
    "f=open(\"bengulru.txt\",\"r+\")\n",
    "len(f.readlines())"
   ]
  },
  {
   "cell_type": "code",
   "execution_count": null,
   "metadata": {},
   "outputs": [],
   "source": [
    "f.seek(0)"
   ]
  },
  {
   "cell_type": "code",
   "execution_count": null,
   "metadata": {},
   "outputs": [],
   "source": [
    "l=f.readlines()"
   ]
  },
  {
   "cell_type": "code",
   "execution_count": null,
   "metadata": {},
   "outputs": [],
   "source": [
    "l[0]"
   ]
  },
  {
   "cell_type": "code",
   "execution_count": null,
   "metadata": {},
   "outputs": [],
   "source": [
    "l[0].split()"
   ]
  },
  {
   "cell_type": "code",
   "execution_count": null,
   "metadata": {},
   "outputs": [],
   "source": [
    "l1=[]\n",
    "for i in l[0].split():\n",
    "    l1.append(i[0])"
   ]
  },
  {
   "cell_type": "code",
   "execution_count": null,
   "metadata": {},
   "outputs": [],
   "source": [
    "l1"
   ]
  },
  {
   "cell_type": "code",
   "execution_count": null,
   "metadata": {},
   "outputs": [],
   "source": [
    "try:\n",
    "    a=20\n",
    "    a=a/20\n",
    "   \n",
    "    print(a)\n",
    "except:\n",
    "    print(\"wrong input\")"
   ]
  },
  {
   "cell_type": "code",
   "execution_count": null,
   "metadata": {},
   "outputs": [],
   "source": [
    "k=input()"
   ]
  },
  {
   "cell_type": "code",
   "execution_count": null,
   "metadata": {},
   "outputs": [],
   "source": [
    "try:\n",
    "    d={\"key1\":32,\"key2\":37,\"key3\":32}\n",
    "    d[\"key4\"]=int(input())\n",
    "except Exception as e:\n",
    "    print (\"this is not number\",e)"
   ]
  },
  {
   "cell_type": "code",
   "execution_count": null,
   "metadata": {},
   "outputs": [],
   "source": [
    "try:\n",
    "    d = {\"key1\": 32, \"key2\": 37, \"key3\": 32}\n",
    "    d[\"key4\"] = int(input(\"Enter a number: \"))\n",
    "except ValueError as e:\n",
    "    print(\"This is not a number:\", e)"
   ]
  },
  {
   "cell_type": "code",
   "execution_count": null,
   "metadata": {},
   "outputs": [],
   "source": [
    "pwd()"
   ]
  },
  {
   "cell_type": "code",
   "execution_count": null,
   "metadata": {},
   "outputs": [],
   "source": [
    "try:\n",
    "    f=open(\"testing.txt\",\"w\")\n",
    "    f.write(\"this is practice code\")\n",
    "except Exception as ErrorInFile:\n",
    "    print(ErrorInFile)\n",
    "else:\n",
    "    print(\"file sucessfully created\")\n",
    "    f.close()"
   ]
  },
  {
   "cell_type": "code",
   "execution_count": 4,
   "metadata": {},
   "outputs": [
    {
     "name": "stdout",
     "output_type": "stream",
     "text": [
      "enter again\n",
      "enter again\n",
      "enter again\n"
     ]
    }
   ],
   "source": [
    "a = True\n",
    "while a == True:\n",
    "    try:\n",
    "        k= int(input(\"enter int\"))\n",
    "        a = False\n",
    "        break\n",
    "    except:\n",
    "        print(\"enter again\")"
   ]
  },
  {
   "cell_type": "code",
   "execution_count": 6,
   "metadata": {},
   "outputs": [],
   "source": [
    "def data(a,b):\n",
    "    try:\n",
    "        c=a/b\n",
    "        print(c)\n",
    "    except ZeroDivisionError as e:\n",
    "        print(\"invalid value\",e)"
   ]
  },
  {
   "cell_type": "code",
   "execution_count": 7,
   "metadata": {},
   "outputs": [
    {
     "name": "stdout",
     "output_type": "stream",
     "text": [
      "invalid value division by zero\n"
     ]
    }
   ],
   "source": [
    "data(5,0)"
   ]
  },
  {
   "cell_type": "code",
   "execution_count": 17,
   "metadata": {},
   "outputs": [],
   "source": [
    "def test(a):\n",
    "    if a<0:\n",
    "        raise Exception(a)\n",
    "    return a"
   ]
  },
  {
   "cell_type": "code",
   "execution_count": 18,
   "metadata": {},
   "outputs": [
    {
     "data": {
      "text/plain": [
       "4"
      ]
     },
     "execution_count": 18,
     "metadata": {},
     "output_type": "execute_result"
    }
   ],
   "source": [
    "b= 4\n",
    "test(b)"
   ]
  },
  {
   "cell_type": "code",
   "execution_count": 1,
   "metadata": {},
   "outputs": [],
   "source": [
    "import logging as lg"
   ]
  },
  {
   "cell_type": "code",
   "execution_count": 2,
   "metadata": {},
   "outputs": [],
   "source": [
    "lg.basicConfig(filename=\"date11.log\",level=lg.DEBUG,format ='%(asctime)s %(levelname)s %(message)s')\n",
    "lg.warning(\"this is warning\")\n",
    "lg.info(\"this is info\")\n",
    "lg.error(\"this is error\")"
   ]
  },
  {
   "cell_type": "code",
   "execution_count": 3,
   "metadata": {},
   "outputs": [
    {
     "data": {
      "text/plain": [
       "'c:\\\\Users\\\\Tushar\\\\Desktop\\\\Python_testing\\\\advance_python'"
      ]
     },
     "execution_count": 3,
     "metadata": {},
     "output_type": "execute_result"
    }
   ],
   "source": [
    "pwd()"
   ]
  },
  {
   "cell_type": "code",
   "execution_count": 4,
   "metadata": {},
   "outputs": [],
   "source": [
    "lg.shutdown()"
   ]
  },
  {
   "cell_type": "code",
   "execution_count": 2,
   "metadata": {},
   "outputs": [],
   "source": [
    "import logging as lg\n",
    "\n",
    "lg.basicConfig(filename=\"k.log\", level=lg.info, format='%(asctime)s %(levelname)s %(message)s')\n",
    "lg.warning(\"this is a warning\")\n",
    "lg.error(\"this is a error\")\n",
    "lg.info(\"this is info\")\n",
    "lg.shutdown()"
   ]
  },
  {
   "cell_type": "code",
   "execution_count": 1,
   "metadata": {},
   "outputs": [],
   "source": [
    "import logging as lg\n",
    "lg.basicConfig(filename=\"divsion1.log\",level=lg.DEBUG,format ='%(asctime)s %(message)s')\n",
    "def divby(a,b):\n",
    "    lg.info(\"this 2 number we are dividing%s and%s\",a,b)\n",
    "    try:\n",
    "        c=a/b\n",
    "        lg.info(\"divide by successfully%s\",c)\n",
    "    except Exception as e:\n",
    "        lg.debug(\"this is invalid-%s\",e)"
   ]
  },
  {
   "cell_type": "code",
   "execution_count": 2,
   "metadata": {},
   "outputs": [],
   "source": [
    "divby(10,2)"
   ]
  },
  {
   "cell_type": "code",
   "execution_count": 1,
   "metadata": {},
   "outputs": [],
   "source": [
    "import test2"
   ]
  },
  {
   "cell_type": "code",
   "execution_count": 2,
   "metadata": {},
   "outputs": [
    {
     "data": {
      "text/plain": [
       "0.5"
      ]
     },
     "execution_count": 2,
     "metadata": {},
     "output_type": "execute_result"
    }
   ],
   "source": [
    "\n",
    "test2.Div_1(2,4)"
   ]
  },
  {
   "cell_type": "code",
   "execution_count": 3,
   "metadata": {},
   "outputs": [
    {
     "data": {
      "text/plain": [
       "6"
      ]
     },
     "execution_count": 3,
     "metadata": {},
     "output_type": "execute_result"
    }
   ],
   "source": [
    "test2.Mul_1(3,2)"
   ]
  },
  {
   "cell_type": "code",
   "execution_count": 6,
   "metadata": {},
   "outputs": [],
   "source": [
    "from test2 import Div_1\n",
    "from test2 import Mul_1\n",
    "from test2 import add_1\n",
    "from test2 import Mul_1"
   ]
  },
  {
   "cell_type": "code",
   "execution_count": 8,
   "metadata": {},
   "outputs": [
    {
     "data": {
      "text/plain": [
       "3.0"
      ]
     },
     "execution_count": 8,
     "metadata": {},
     "output_type": "execute_result"
    }
   ],
   "source": [
    "Div_1(6,2)"
   ]
  },
  {
   "cell_type": "code",
   "execution_count": 9,
   "metadata": {},
   "outputs": [],
   "source": [
    "f=open(\"ineuron.py\",\"w\")"
   ]
  },
  {
   "cell_type": "code",
   "execution_count": 10,
   "metadata": {},
   "outputs": [],
   "source": [
    "f.close()"
   ]
  },
  {
   "cell_type": "code",
   "execution_count": 11,
   "metadata": {},
   "outputs": [
    {
     "data": {
      "text/plain": [
       "['dl', 'ml', 'python']"
      ]
     },
     "execution_count": 11,
     "metadata": {},
     "output_type": "execute_result"
    }
   ],
   "source": [
    "import ineuron\n",
    "ineuron.get_Course()"
   ]
  },
  {
   "cell_type": "code",
   "execution_count": 13,
   "metadata": {},
   "outputs": [
    {
     "data": {
      "text/plain": [
       "'hello all'"
      ]
     },
     "execution_count": 13,
     "metadata": {},
     "output_type": "execute_result"
    }
   ],
   "source": [
    "ineuron.greeting()"
   ]
  },
  {
   "cell_type": "code",
   "execution_count": 14,
   "metadata": {},
   "outputs": [
    {
     "name": "stdout",
     "output_type": "stream",
     "text": [
      " Volume in drive C is Windows\n",
      " Volume Serial Number is 2EAD-C7A3\n",
      "\n",
      " Directory of c:\\Users\\Tushar\\Desktop\\Python_testing\\advance_python\n",
      "\n",
      "06/10/2024  03:11 PM    <DIR>          .\n",
      "06/10/2024  03:11 PM    <DIR>          ..\n",
      "06/10/2024  03:18 PM    <DIR>          __pycache__\n",
      "06/05/2024  05:10 PM             2,817 bengulru.txt\n",
      "06/07/2024  04:28 PM               304 date.log\n",
      "06/07/2024  04:53 PM               231 date11.log\n",
      "06/07/2024  05:49 PM               120 divsion\n",
      "06/07/2024  05:53 PM               346 divsion1.log\n",
      "06/10/2024  03:16 PM               170 ineuron.py\n",
      "06/07/2024  04:58 PM               588 k.log\n",
      "06/07/2024  04:24 PM               162 test.log\n",
      "06/05/2024  12:24 PM                 0 test.txt\n",
      "06/05/2024  12:32 PM                25 test1.txt\n",
      "06/10/2024  02:59 PM               260 test2.py\n",
      "06/05/2024  12:34 PM                43 test2.txt\n",
      "06/06/2024  05:31 PM                21 testing.txt\n",
      "06/10/2024  03:20 PM            19,483 Untitled-2.ipynb\n",
      "              14 File(s)         24,570 bytes\n",
      "               3 Dir(s)  868,396,728,320 bytes free\n"
     ]
    }
   ],
   "source": [
    "ls"
   ]
  },
  {
   "cell_type": "code",
   "execution_count": null,
   "metadata": {},
   "outputs": [],
   "source": []
  }
 ],
 "metadata": {
  "kernelspec": {
   "display_name": "Python 3",
   "language": "python",
   "name": "python3"
  },
  "language_info": {
   "codemirror_mode": {
    "name": "ipython",
    "version": 3
   },
   "file_extension": ".py",
   "mimetype": "text/x-python",
   "name": "python",
   "nbconvert_exporter": "python",
   "pygments_lexer": "ipython3",
   "version": "3.11.5"
  }
 },
 "nbformat": 4,
 "nbformat_minor": 2
}
