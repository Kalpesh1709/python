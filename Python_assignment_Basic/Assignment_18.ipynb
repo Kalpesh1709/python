{
  "cells": [
    {
      "cell_type": "markdown",
      "metadata": {
        "id": "WnqjZRfpLrxi"
      },
      "source": [
        "**1. Create a zoo.py file first. Define the hours() function, which prints the string &#39;Open 9-5 daily&#39;.\n",
        "Then, use the interactive interpreter to import the zoo module and call its hours() function.**\n"
      ]
    },
    {
      "cell_type": "code",
      "execution_count": 10,
      "metadata": {},
      "outputs": [
        {
          "name": "stdout",
          "output_type": "stream",
          "text": [
            "open 0-9\n"
          ]
        }
      ],
      "source": [
        "import os\n",
        "os.chdir(\"C:\\\\Users\\\\Tushar\\\\Desktop\\\\Python_testing\\\\assignmet\\\\programming assignment\")\n",
        "import zoo\n",
        "zoo.hours()"
      ]
    },
    {
      "cell_type": "markdown",
      "metadata": {
        "id": "84nRzoVQLvSz"
      },
      "source": [
        "**2. In the interactive interpreter, import the zoo module as menagerie and call its hours() function.**\n"
      ]
    },
    {
      "cell_type": "code",
      "execution_count": 11,
      "metadata": {},
      "outputs": [
        {
          "name": "stdout",
          "output_type": "stream",
          "text": [
            "open 0-9\n"
          ]
        }
      ],
      "source": [
        "import zoo as menagerie\n",
        "menagerie.hours()"
      ]
    },
    {
      "cell_type": "markdown",
      "metadata": {
        "id": "EJbsiCwdLyME"
      },
      "source": [
        "**3. Using the interpreter, explicitly import and call the hours() function from zoo.**"
      ]
    },
    {
      "cell_type": "code",
      "execution_count": 12,
      "metadata": {},
      "outputs": [
        {
          "name": "stdout",
          "output_type": "stream",
          "text": [
            "open 0-9\n"
          ]
        }
      ],
      "source": [
        "from zoo import hours\n",
        "hours()"
      ]
    },
    {
      "cell_type": "markdown",
      "metadata": {
        "id": "z_BNBTvbL0n_"
      },
      "source": [
        "**4. Import the hours() function as info and call it.**\n"
      ]
    },
    {
      "cell_type": "code",
      "execution_count": 13,
      "metadata": {},
      "outputs": [
        {
          "name": "stdout",
          "output_type": "stream",
          "text": [
            "open 0-9\n"
          ]
        }
      ],
      "source": [
        "from zoo import hours as info\n",
        "info()"
      ]
    },
    {
      "cell_type": "markdown",
      "metadata": {
        "id": "_ftQyoR0L3WW"
      },
      "source": [
        "**5. Create a plain dictionary with the key-value pairs &#39;a&#39;: 1, &#39;b&#39;: 2, and &#39;c&#39;: 3, and print it out.**\n"
      ]
    },
    {
      "cell_type": "code",
      "execution_count": 15,
      "metadata": {
        "id": "58iUYydwLjKV"
      },
      "outputs": [
        {
          "data": {
            "text/plain": [
              "{'a': 1, 'b': 2, 'c': 3}"
            ]
          },
          "execution_count": 15,
          "metadata": {},
          "output_type": "execute_result"
        }
      ],
      "source": [
        "plain={'a':1,'b':2,'c':3}\n",
        "plain"
      ]
    },
    {
      "cell_type": "markdown",
      "metadata": {
        "id": "aqQXHLVpL7d9"
      },
      "source": [
        "**6.Make an OrderedDict called fancy from the same pairs listed in 5 and print it. Did it print in the\n",
        "same order as plain?**\n"
      ]
    },
    {
      "cell_type": "code",
      "execution_count": 16,
      "metadata": {
        "id": "6nFfjLAYL-Ln"
      },
      "outputs": [
        {
          "data": {
            "text/plain": [
              "OrderedDict([('a', 1), ('b', 2), ('c', 3)])"
            ]
          },
          "execution_count": 16,
          "metadata": {},
          "output_type": "execute_result"
        }
      ],
      "source": [
        "from collections import OrderedDict\n",
        "OrderedDict(plain)"
      ]
    },
    {
      "cell_type": "markdown",
      "metadata": {
        "id": "0D-RtvHdL-0n"
      },
      "source": [
        "**7.Make a default dictionary called dict_of_lists and pass it the argument list. Make the list dict_of_lists[&#39;a&#39;] and append the value &#39;something for a&#39; to it in one assignment. Print dict_of_lists[&#39;a&#39;].**"
      ]
    },
    {
      "cell_type": "code",
      "execution_count": 21,
      "metadata": {
        "id": "TDeUs3jPL_6c"
      },
      "outputs": [
        {
          "data": {
            "text/plain": [
              "['something for a']"
            ]
          },
          "execution_count": 21,
          "metadata": {},
          "output_type": "execute_result"
        }
      ],
      "source": [
        "from collections import defaultdict\n",
        "dict_of_list=defaultdict(list)\n",
        "dict_of_list['a'].append(\"something for a\")\n",
        "dict_of_list['a']"
      ]
    },
    {
      "cell_type": "code",
      "execution_count": null,
      "metadata": {},
      "outputs": [],
      "source": []
    }
  ],
  "metadata": {
    "colab": {
      "provenance": []
    },
    "kernelspec": {
      "display_name": "Python 3",
      "name": "python3"
    },
    "language_info": {
      "codemirror_mode": {
        "name": "ipython",
        "version": 3
      },
      "file_extension": ".py",
      "mimetype": "text/x-python",
      "name": "python",
      "nbconvert_exporter": "python",
      "pygments_lexer": "ipython3",
      "version": "3.11.5"
    }
  },
  "nbformat": 4,
  "nbformat_minor": 0
}
