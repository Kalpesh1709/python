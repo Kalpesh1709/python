{
  "cells": [
    {
      "cell_type": "markdown",
      "metadata": {
        "id": "Ma-dadAxMFgr"
      },
      "source": [
        "**1. What advantages do Excel spreadsheets have over CSV spreadsheets?**\n"
      ]
    },
    {
      "cell_type": "markdown",
      "metadata": {},
      "source": [
        "**Ans:**\n",
        "\n",
        "1) excel spreadsheet having font formating option which is mmake spreadsheet easy to readable\n",
        "2) in excel spreadsheet we can create formulas and complex function using build in function\n",
        "3) it is robust tool for creating chart and graph\n",
        "4) it support micros to automated task and complex operation\n",
        "5) PivotTables and PivotCharts: These tools enable dynamic data analysis, allowing you to summarize and analyze data interactively."
      ]
    },
    {
      "cell_type": "markdown",
      "metadata": {
        "id": "3Bly3gSXMI7i"
      },
      "source": [
        "**2.What do you pass to csv.reader() and csv.writer() to create reader and writer objects?**"
      ]
    },
    {
      "cell_type": "markdown",
      "metadata": {},
      "source": [
        "Ans: you need to write object so we are using csv.writer()"
      ]
    },
    {
      "cell_type": "code",
      "execution_count": 7,
      "metadata": {},
      "outputs": [],
      "source": [
        "import csv\n",
        "with open (file='new.csv',mode='w+',newline='') as file:\n",
        "    nw=csv.writer(file)\n",
        "    nw.writerow(\"line1\")\n",
        "    nw.writerow(\"line2\")\n",
        "    nw.writerow(\"line3\")\n",
        "    "
      ]
    },
    {
      "cell_type": "markdown",
      "metadata": {},
      "source": [
        "you need to read object so we are using csv.reader()"
      ]
    },
    {
      "cell_type": "code",
      "execution_count": 10,
      "metadata": {},
      "outputs": [
        {
          "name": "stdout",
          "output_type": "stream",
          "text": [
            "['l', 'i', 'n', 'e', '1']\n",
            "['l', 'i', 'n', 'e', '2']\n",
            "['l', 'i', 'n', 'e', '3']\n"
          ]
        }
      ],
      "source": [
        "import csv\n",
        "with open (file='new.csv',mode='r',newline='') as file:\n",
        "    read_file = csv.reader(file)\n",
        "    for readline in read_file:\n",
        "        print(readline)"
      ]
    },
    {
      "cell_type": "markdown",
      "metadata": {
        "id": "XHvIeTD0MO7Z"
      },
      "source": [
        "**3. What modes do File objects for reader and writer objects need to be opened in?**"
      ]
    },
    {
      "cell_type": "markdown",
      "metadata": {},
      "source": [
        "Ans:\n",
        "\n",
        "read mode:\n",
        "\n",
        "Read Mode ('r'): The file needs to be opened in read mode.\n",
        "\n",
        "Binary Read Mode ('rb'): On some systems, especially when dealing with binary data.\n",
        "\n",
        "write mode:\n",
        "\n",
        "Read Mode ('w'): The file needs to be opened in write mode.\n",
        "\n",
        "Binary Read Mode ('wb'): On some systems, especially when dealing with binary data.\n",
        "\n",
        "Append Mode ('a'): The file needs to be opened in append mode to add data to the end of an existing file."
      ]
    },
    {
      "cell_type": "markdown",
      "metadata": {
        "id": "44-XLyQIMZPx"
      },
      "source": [
        "**4. What method takes a list argument and writes it to a CSV file?**\n"
      ]
    },
    {
      "cell_type": "markdown",
      "metadata": {},
      "source": [
        "Ans:\n",
        "\n",
        " writerow() and writerrows() method takes a list argument and writes it to a CSV file?"
      ]
    },
    {
      "cell_type": "markdown",
      "metadata": {
        "id": "0231GhnAMcWx"
      },
      "source": [
        "**5. What do the keyword arguments delimiter and line terminator do?**\n"
      ]
    },
    {
      "cell_type": "markdown",
      "metadata": {},
      "source": [
        "ans:\n",
        "\n",
        "delimiter: Controls the character that separates fields in a row.\n",
        "\n",
        "lineterminator: Controls the string that terminates each row."
      ]
    },
    {
      "cell_type": "markdown",
      "metadata": {
        "id": "TzLIQo6kMfJy"
      },
      "source": [
        "**6. What function takes a string of JSON data and returns a Python data structure?**\n"
      ]
    },
    {
      "cell_type": "markdown",
      "metadata": {},
      "source": [
        "Ans:The function that takes a string of JSON data and returns a Python data structure is json.loads()"
      ]
    },
    {
      "cell_type": "code",
      "execution_count": 12,
      "metadata": {},
      "outputs": [
        {
          "name": "stdout",
          "output_type": "stream",
          "text": [
            "{'name': 'Alice', 'age': 30, 'city': 'New York'}\n"
          ]
        }
      ],
      "source": [
        "import json\n",
        "json_data='{\"name\": \"Alice\", \"age\": 30, \"city\": \"New York\"}'\n",
        "python_data= json.loads(json_data)\n",
        "print(python_data)"
      ]
    },
    {
      "cell_type": "markdown",
      "metadata": {
        "id": "tKzrYQPnMhox"
      },
      "source": [
        "**7. What function takes a Python data structure and returns a string of JSON data?**"
      ]
    },
    {
      "cell_type": "markdown",
      "metadata": {},
      "source": [
        "Ans:\n",
        "\n",
        "json.dumps() function takes python data structure and return string of json data"
      ]
    },
    {
      "cell_type": "code",
      "execution_count": 14,
      "metadata": {
        "id": "-P1MC0E_LYrY"
      },
      "outputs": [
        {
          "name": "stdout",
          "output_type": "stream",
          "text": [
            "{\"name\": \"Alice\", \"age\": 30, \"city\": \"New York\"}\n"
          ]
        }
      ],
      "source": [
        "import json\n",
        "python_data1={\"name\": \"Alice\",\n",
        "             \"age\": 30, \n",
        "             \"city\": \"New York\"}\n",
        "json_data1=json.dumps(python_data1)\n",
        "print(json_data1)"
      ]
    }
  ],
  "metadata": {
    "colab": {
      "provenance": []
    },
    "kernelspec": {
      "display_name": "Python 3",
      "name": "python3"
    },
    "language_info": {
      "codemirror_mode": {
        "name": "ipython",
        "version": 3
      },
      "file_extension": ".py",
      "mimetype": "text/x-python",
      "name": "python",
      "nbconvert_exporter": "python",
      "pygments_lexer": "ipython3",
      "version": "3.11.5"
    }
  },
  "nbformat": 4,
  "nbformat_minor": 0
}
