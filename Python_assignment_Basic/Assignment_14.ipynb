{
  "cells": [
    {
      "cell_type": "markdown",
      "metadata": {
        "id": "cUoIj013s3lL"
      },
      "source": [
        "**1. What does RGBA stand for?**\n"
      ]
    },
    {
      "cell_type": "markdown",
      "metadata": {
        "id": "uVCxbVL_tXvq"
      },
      "source": [
        "Ans:\n",
        "\n",
        "RGBA its stands for red green blue alpha (alpha is optacity of colour its range between 0 to 1)"
      ]
    },
    {
      "cell_type": "markdown",
      "metadata": {
        "id": "XPMz7e3Ss68L"
      },
      "source": [
        "**2. From the Pillow module, how do you get the RGBA value of any images?**\n"
      ]
    },
    {
      "cell_type": "code",
      "execution_count": 6,
      "metadata": {},
      "outputs": [
        {
          "name": "stdout",
          "output_type": "stream",
          "text": [
            "(255, 255, 255, 255)\n"
          ]
        }
      ],
      "source": [
        "from PIL import Image# from PIL library import image\n",
        "image_1= Image.open('C:\\\\Users\\\\Tushar\\\\Desktop\\\\Python_testing\\\\assignmet\\\\assignment\\\\shapes.jpg')#image open\n",
        "rgba=image_1.convert('RGBA')#RGBA conversion\n",
        "data=rgba.getdata()\n",
        "print(data[0])"
      ]
    },
    {
      "cell_type": "markdown",
      "metadata": {
        "id": "3m3S4ei-s-Nr"
      },
      "source": [
        "**3. What is a box tuple, and how does it work?**\n"
      ]
    },
    {
      "cell_type": "markdown",
      "metadata": {},
      "source": [
        "Ans:\n",
        "\n",
        " box tuple that defines a rectangular region in an image. It typically consists of four integers representing the coordinates of the rectangle. The format is (left, upper, right, lower).let see example"
      ]
    },
    {
      "cell_type": "code",
      "execution_count": 11,
      "metadata": {},
      "outputs": [],
      "source": [
        "from PIL import Image# from PIL library import image\n",
        "image_1= Image.open('C:\\\\Users\\\\Tushar\\\\Desktop\\\\Python_testing\\\\assignmet\\\\assignment\\\\shapes.jpg')\n",
        "box = (100,100,400,400)\n",
        "img= image_1.crop(box)\n",
        "img.show()"
      ]
    },
    {
      "cell_type": "markdown",
      "metadata": {
        "id": "cY_Ff84XtBJi"
      },
      "source": [
        "**4. Use your image and load in notebook then, How can you find out the width and height of an Image object?**\n"
      ]
    },
    {
      "cell_type": "markdown",
      "metadata": {},
      "source": [
        "Ans :\n",
        "\n",
        "height,width = image_1.size"
      ]
    },
    {
      "cell_type": "code",
      "execution_count": 19,
      "metadata": {},
      "outputs": [
        {
          "name": "stdout",
          "output_type": "stream",
          "text": [
            "h:994,w:693\n"
          ]
        }
      ],
      "source": [
        "from PIL import Image# from PIL library import image\n",
        "image_1= Image.open('C:\\\\Users\\\\Tushar\\\\Desktop\\\\Python_testing\\\\assignmet\\\\assignment\\\\shapes.jpg')\n",
        "height,width = image_1.size\n",
        "print(f'h:{height},w:{width}')"
      ]
    },
    {
      "cell_type": "markdown",
      "metadata": {
        "id": "ZroMpCCKtE4B"
      },
      "source": [
        "**5.What method would you call to get Image object for a 100×100 image, excluding the lower-left quarter of it?**\n"
      ]
    },
    {
      "cell_type": "markdown",
      "metadata": {},
      "source": [
        "Ans:\n",
        "\n",
        "using PIL libaray we can crop image by using crop function lets see example"
      ]
    },
    {
      "cell_type": "code",
      "execution_count": 28,
      "metadata": {},
      "outputs": [
        {
          "data": {
            "text/plain": [
              "<bound method Image.show of <PIL.Image.Image image mode=RGB size=50x0 at 0x200A12ABF50>>"
            ]
          },
          "execution_count": 28,
          "metadata": {},
          "output_type": "execute_result"
        }
      ],
      "source": [
        "from PIL import Image\n",
        "image_2 = Image.open('C:\\\\Users\\\\Tushar\\\\Desktop\\\\Python_testing\\\\assignmet\\\\assignment\\\\shapes.jpg')\n",
        "box =(0,50,50,50)#(left, upper, right, lower).\n",
        "resize_image=image_2.crop(box)\n",
        "resize_image.show\n",
        "\n"
      ]
    },
    {
      "cell_type": "markdown",
      "metadata": {
        "id": "ICWACH-ytMQC"
      },
      "source": [
        "**6. After making changes to an Image object, how could you save it as an image file?**\n"
      ]
    },
    {
      "cell_type": "code",
      "execution_count": 31,
      "metadata": {
        "id": "Qw_NmYKBnPDo"
      },
      "outputs": [],
      "source": [
        "from PIL import Image\n",
        "image_2 = Image.open('C:\\\\Users\\\\Tushar\\\\Desktop\\\\Python_testing\\\\assignmet\\\\assignment\\\\shapes.jpg')\n",
        "image_2.save('kal.jpg')\n"
      ]
    },
    {
      "cell_type": "markdown",
      "metadata": {
        "id": "QAjXfPUgtPba"
      },
      "source": [
        "**7. What module contains Pillow’s shape-drawing code?**\n"
      ]
    },
    {
      "cell_type": "markdown",
      "metadata": {},
      "source": [
        "Ans:\n",
        "\n",
        "Pillow's shape-drawing code is contained in the PIL.ImageDraw module. This module provides functions to draw various shapes, text, and other graphical elements on an image.\n",
        "\n",
        "Common Methods in PIL.ImageDraw:\n",
        "\n",
        "line(): Draws a line segment between two points.\n",
        "\n",
        "rectangle(): Draws a rectangle.\n",
        "\n",
        "ellipse(): Draws an ellipse inside a bounding box.\n",
        "\n",
        "polygon(): Draws a polygon.\n"
      ]
    },
    {
      "cell_type": "markdown",
      "metadata": {
        "id": "nO2TBOHwtSyj"
      },
      "source": [
        "**8.Image objects do not have drawing methods. What kind of object does? How do you get this kind of object?**"
      ]
    },
    {
      "cell_type": "markdown",
      "metadata": {},
      "source": [
        "Ans:\n",
        "\n",
        "Yes its correct image object dont have drawing method instead of that we are using imagedraw object. let see example of imagedraw"
      ]
    },
    {
      "cell_type": "code",
      "execution_count": 49,
      "metadata": {
        "id": "JZuEdylAtV-D"
      },
      "outputs": [],
      "source": [
        "from PIL import Image,ImageDraw\n",
        "image = Image.new(\"RGB\",(200,200),color=\"white\")\n",
        "draw = ImageDraw.Draw(image)\n",
        "draw.ellipse([(40,40),(100,100)],fill='black',width=7)\n",
        "draw.line([(50,50),(115,115)],fill='black',width=7)\n",
        "draw.text((20,30),'helo',fill='black')\n",
        "image.save('hey.jpg')\n",
        "\n"
      ]
    },
    {
      "cell_type": "code",
      "execution_count": null,
      "metadata": {},
      "outputs": [],
      "source": []
    }
  ],
  "metadata": {
    "colab": {
      "provenance": []
    },
    "kernelspec": {
      "display_name": "Python 3",
      "name": "python3"
    },
    "language_info": {
      "codemirror_mode": {
        "name": "ipython",
        "version": 3
      },
      "file_extension": ".py",
      "mimetype": "text/x-python",
      "name": "python",
      "nbconvert_exporter": "python",
      "pygments_lexer": "ipython3",
      "version": "3.11.5"
    }
  },
  "nbformat": 4,
  "nbformat_minor": 0
}
